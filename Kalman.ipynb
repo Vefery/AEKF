{
 "cells": [
  {
   "cell_type": "markdown",
   "metadata": {},
   "source": [
    "## Import"
   ]
  },
  {
   "cell_type": "code",
   "execution_count": null,
   "metadata": {},
   "outputs": [],
   "source": [
    "import torch\n",
    "import matplotlib.pyplot as plt\n",
    "from torch.distributions.normal import Normal\n",
    "from math import sqrt"
   ]
  },
  {
   "cell_type": "markdown",
   "metadata": {},
   "source": [
    "# AEKF"
   ]
  },
  {
   "cell_type": "code",
   "execution_count": null,
   "metadata": {},
   "outputs": [],
   "source": [
    "class AEKF():\n",
    "    def __init__(self, A :torch.Tensor, H :torch.Tensor, Q0 :torch.Tensor, R0 :torch.Tensor, x0 :torch.Tensor, z0 :torch.Tensor, alpha = 0.3):\n",
    "        self.xk = x0.float().reshape(-1, 1)\n",
    "        self.A = A.float()\n",
    "        if self.A.dim() == 1:\n",
    "            self.A = self.A.unsqueeze(0)\n",
    "\n",
    "        self.H = H.float()\n",
    "        if self.H.dim() == 1:\n",
    "            self.H = self.H.unsqueeze(0)\n",
    "\n",
    "        self.Qk = Q0.float()\n",
    "        self.Rk = R0.float()\n",
    "        self.Pk = (x0 - self.xk) @ (x0 - self.xk).T\n",
    "        self.A_tr = self.A.T\n",
    "        self.H_tr = self.H.T\n",
    "        self.identity = torch.eye(x0.shape[0], dtype=torch.float32, requires_grad=False)\n",
    "        self.alpha = alpha\n",
    "\n",
    "        self.n = self.xk.shape[0]\n",
    "        self.m = self.H.shape[0]\n",
    "\n",
    "        t = z0.view(-1, 1) - self.H @ self.xk\n",
    "        self.eps_sum = t @ t.T\n",
    "        \n",
    "    def predict(self):\n",
    "        xk_new_noise = self.A @ self.xk\n",
    "        Pk_new_noise = self.A @ self.Pk @ self.A_tr + self.Qk\n",
    "\n",
    "        return xk_new_noise, Pk_new_noise\n",
    "\n",
    "    def correct(self, xk_new_noise :torch.Tensor, Pk_new_noise :torch.Tensor, zk :torch.Tensor, k :int):\n",
    "        dk = zk - self.H @ xk_new_noise\n",
    "        eps_est = self.eps_sum / k\n",
    "        Rk_new = self.alpha * self.Rk + (1.0 - self.alpha) * (eps_est + self.H @ Pk_new_noise @ self.H_tr)\n",
    "        Kk = Pk_new_noise @ self.H_tr @ (self.H @ Pk_new_noise @ self.H_tr + Rk_new).inverse()\n",
    "        xk_new = xk_new_noise + Kk @ dk\n",
    "        Pk_new = (self.identity - Kk @ self.H) @ Pk_new_noise\n",
    "\n",
    "        Qk_new = self.alpha * self.Qk + (1.0 - self.alpha) * (Kk @ dk @ dk.T @ Kk.T)\n",
    "\n",
    "        eps = zk - self.H @ xk_new\n",
    "        self.eps_sum += eps @ eps.T\n",
    "\n",
    "        self.xk = xk_new\n",
    "        self.Pk = Pk_new\n",
    "        self.Qk = Qk_new\n",
    "        self.Rk = Rk_new\n",
    "\n",
    "        return xk_new, Qk_new, Rk_new"
   ]
  },
  {
   "cell_type": "markdown",
   "metadata": {},
   "source": [
    "# KF"
   ]
  },
  {
   "cell_type": "code",
   "execution_count": null,
   "metadata": {},
   "outputs": [],
   "source": [
    "class KF():\n",
    "    def __init__(self, A :torch.Tensor, H :torch.Tensor, Q :torch.Tensor, R :torch.Tensor, x0 :torch.Tensor):\n",
    "        self.xk = x0.float().reshape(-1, 1)\n",
    "        self.A = A.float()\n",
    "        if self.A.dim() == 1:\n",
    "            self.A = self.A.unsqueeze(0)\n",
    "\n",
    "        self.H = H.float()\n",
    "        if self.H.dim() == 1:\n",
    "            self.H = self.H.unsqueeze(0)\n",
    "\n",
    "        self.Q = Q\n",
    "        self.R = R\n",
    "        self.Pk = (x0 - self.xk) @ (x0 - self.xk).T\n",
    "        self.A_tr = self.A.T\n",
    "        self.H_tr = self.H.T\n",
    "        self.identity = torch.eye(x0.shape[0], dtype=torch.float32, requires_grad=False)\n",
    "\n",
    "        self.n = self.xk.shape[0]\n",
    "        self.m = self.H.shape[0]\n",
    "        \n",
    "    def predict(self):\n",
    "        xk_new_noise = self.A @ self.xk\n",
    "        Pk_new_noise = self.A @ self.Pk @ self.A_tr + self.Q\n",
    "\n",
    "        return xk_new_noise, Pk_new_noise\n",
    "\n",
    "    def correct(self, xk_new_noise :torch.Tensor, Pk_new_noise :torch.Tensor, zk :torch.Tensor):\n",
    "        Kk = Pk_new_noise @ self.H_tr @ (self.H @ Pk_new_noise @ self.H_tr + self.R).inverse()\n",
    "        xk_new = xk_new_noise + Kk @ (zk - self.H @ xk_new_noise)\n",
    "        Pk_new = (self.identity - Kk @ self.H) @ Pk_new_noise\n",
    "\n",
    "        self.xk = xk_new\n",
    "        self.Pk = Pk_new\n",
    "\n",
    "        return xk_new"
   ]
  },
  {
   "cell_type": "markdown",
   "metadata": {},
   "source": [
    "# Testing"
   ]
  },
  {
   "cell_type": "code",
   "execution_count": null,
   "metadata": {},
   "outputs": [],
   "source": [
    "delta_t = 1.0\n",
    "total = 1000\n",
    "\n",
    "A = torch.tensor([[1, 0, delta_t, 0], [0, 1, 0, delta_t], [0, 0, 1, 0], [0, 0, 0, 1]])\n",
    "H = torch.tensor([[1, 0, 0, 0], [0, 1, 0, 0]], dtype=torch.float32)\n",
    "Q = 0.01 * torch.diag(torch.tensor([1, 1, 1, 1]))\n",
    "R = 0.1 * torch.diag(torch.tensor([1.0, 1.0]))\n",
    "x0 = torch.tensor([[1], [1], [0], [0]], dtype=torch.float32)\n",
    "\n",
    "sigma_v = sqrt(0.1)\n",
    "dist = Normal(0, sigma_v)\n",
    "z0 = H @ x0 + dist.sample((R.dim(), 1))\n",
    "\n",
    "aekf = AEKF(A, H, Q, R, x0, z0, alpha=0.3)\n",
    "kf = KF(A, H, Q, R, x0)\n",
    "\n",
    "xerr = []\n",
    "kf_xerr = []\n",
    "x_prev = x0\n",
    "for k in range(1, total):\n",
    "    x_cur = A @ x_prev\n",
    "\n",
    "    xk_new_noise, pk_new_noise = aekf.predict()\n",
    "    kf_xk_new_noise, kf_pk_new_noise = kf.predict()\n",
    "\n",
    "    zk = H @ x_cur\n",
    "\n",
    "    xk, Qk, Rk = aekf.correct(xk_new_noise, pk_new_noise, zk + dist.sample((aekf.m, 1)), k)\n",
    "    xk_fk = kf.correct(kf_xk_new_noise, kf_pk_new_noise, zk + dist.sample((aekf.m, 1)))\n",
    "\n",
    "    zk_aekf = H @ xk\n",
    "    zk_kf = H @ xk_fk\n",
    "    if k % 10 == 0:\n",
    "        xerr.append(torch.linalg.norm((zk - zk_aekf)**2 / zk.numel()))\n",
    "        kf_xerr.append(torch.linalg.norm((zk - zk_kf)**2 / zk.numel()))\n",
    "\n",
    "x_values = list(range(len(xerr)))\n",
    "plt.figure(figsize=(10, 5))\n",
    "plt.plot(x_values, xerr, marker='o', color='blue')\n",
    "plt.plot(x_values, kf_xerr, marker='.', color='green')\n",
    "\n",
    "plt.title('Error')\n",
    "plt.xlabel('Time step')\n",
    "plt.ylabel('Error')\n",
    "\n",
    "plt.grid()\n",
    "plt.show()"
   ]
  }
 ],
 "metadata": {
  "kernelspec": {
   "display_name": "mlagents",
   "language": "python",
   "name": "python3"
  },
  "language_info": {
   "codemirror_mode": {
    "name": "ipython",
    "version": 3
   },
   "file_extension": ".py",
   "mimetype": "text/x-python",
   "name": "python",
   "nbconvert_exporter": "python",
   "pygments_lexer": "ipython3",
   "version": "3.10.12"
  }
 },
 "nbformat": 4,
 "nbformat_minor": 2
}
